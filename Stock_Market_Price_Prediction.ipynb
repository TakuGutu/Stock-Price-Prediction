{
 "cells": [
  {
   "cell_type": "markdown",
   "id": "9e000b8c",
   "metadata": {
    "id": "9e000b8c"
   },
   "source": [
    "# Stock Market Price prediction"
   ]
  },
  {
   "cell_type": "code",
   "execution_count": 1,
   "id": "6c7ef151",
   "metadata": {
    "id": "6c7ef151"
   },
   "outputs": [],
   "source": [
    "#packages\n",
    "\n",
    "import pandas as pd\n",
    "import pytz\n",
    "import matplotlib.pyplot as plt\n",
    "from sklearn.ensemble import RandomForestClassifier\n",
    "from sklearn.metrics import precision_score\n"
   ]
  },
  {
   "cell_type": "markdown",
   "id": "cdf605ee-def6-4adb-93c9-7b0f534bdbd1",
   "metadata": {
    "id": "cdf605ee-def6-4adb-93c9-7b0f534bdbd1"
   },
   "source": [
    "## Downloading stock price data"
   ]
  },
  {
   "cell_type": "code",
   "execution_count": 2,
   "id": "34572d04-5521-46ac-8f10-f745c8530f92",
   "metadata": {
    "id": "34572d04-5521-46ac-8f10-f745c8530f92"
   },
   "outputs": [],
   "source": [
    "import yfinance as yf"
   ]
  },
  {
   "cell_type": "code",
   "execution_count": 3,
   "id": "e5aad115-701a-4343-a49e-0c5413b0c7c0",
   "metadata": {
    "id": "e5aad115-701a-4343-a49e-0c5413b0c7c0"
   },
   "outputs": [],
   "source": [
    "ticker= yf.Ticker(\"AAPL\")"
   ]
  },
  {
   "cell_type": "code",
   "execution_count": 4,
   "id": "e573770d-b5c4-480e-9b19-a5e62f35e4ee",
   "metadata": {},
   "outputs": [
    {
     "data": {
      "text/plain": [
       "'Apple Inc.'"
      ]
     },
     "execution_count": 4,
     "metadata": {},
     "output_type": "execute_result"
    }
   ],
   "source": [
    "name= ticker.info[\"shortName\"]\n",
    "name"
   ]
  },
  {
   "cell_type": "code",
   "execution_count": 5,
   "id": "c75966fa-848a-4df9-93d5-d12e9c9c5397",
   "metadata": {
    "id": "c75966fa-848a-4df9-93d5-d12e9c9c5397"
   },
   "outputs": [],
   "source": [
    "df= ticker.history(period= \"10y\")\n",
    "#set period of data collected"
   ]
  },
  {
   "cell_type": "code",
   "execution_count": 6,
   "id": "aeb0f708-214c-40c7-bcce-efa9da84781b",
   "metadata": {
    "colab": {
     "base_uri": "https://localhost:8080/",
     "height": 455
    },
    "id": "aeb0f708-214c-40c7-bcce-efa9da84781b",
    "outputId": "d154f4de-9139-4411-e13d-9975c77f2835"
   },
   "outputs": [
    {
     "data": {
      "text/html": [
       "<div>\n",
       "<style scoped>\n",
       "    .dataframe tbody tr th:only-of-type {\n",
       "        vertical-align: middle;\n",
       "    }\n",
       "\n",
       "    .dataframe tbody tr th {\n",
       "        vertical-align: top;\n",
       "    }\n",
       "\n",
       "    .dataframe thead th {\n",
       "        text-align: right;\n",
       "    }\n",
       "</style>\n",
       "<table border=\"1\" class=\"dataframe\">\n",
       "  <thead>\n",
       "    <tr style=\"text-align: right;\">\n",
       "      <th></th>\n",
       "      <th>Open</th>\n",
       "      <th>High</th>\n",
       "      <th>Low</th>\n",
       "      <th>Close</th>\n",
       "      <th>Volume</th>\n",
       "      <th>Dividends</th>\n",
       "      <th>Stock Splits</th>\n",
       "    </tr>\n",
       "    <tr>\n",
       "      <th>Date</th>\n",
       "      <th></th>\n",
       "      <th></th>\n",
       "      <th></th>\n",
       "      <th></th>\n",
       "      <th></th>\n",
       "      <th></th>\n",
       "      <th></th>\n",
       "    </tr>\n",
       "  </thead>\n",
       "  <tbody>\n",
       "    <tr>\n",
       "      <th>2015-06-23 00:00:00-04:00</th>\n",
       "      <td>28.551294</td>\n",
       "      <td>28.580409</td>\n",
       "      <td>28.416913</td>\n",
       "      <td>28.450508</td>\n",
       "      <td>121075600</td>\n",
       "      <td>0.0</td>\n",
       "      <td>0.0</td>\n",
       "    </tr>\n",
       "    <tr>\n",
       "      <th>2015-06-24 00:00:00-04:00</th>\n",
       "      <td>28.490822</td>\n",
       "      <td>29.070897</td>\n",
       "      <td>28.470666</td>\n",
       "      <td>28.692392</td>\n",
       "      <td>221123600</td>\n",
       "      <td>0.0</td>\n",
       "      <td>0.0</td>\n",
       "    </tr>\n",
       "    <tr>\n",
       "      <th>2015-06-25 00:00:00-04:00</th>\n",
       "      <td>28.860366</td>\n",
       "      <td>28.936514</td>\n",
       "      <td>28.555771</td>\n",
       "      <td>28.555771</td>\n",
       "      <td>127752400</td>\n",
       "      <td>0.0</td>\n",
       "      <td>0.0</td>\n",
       "    </tr>\n",
       "    <tr>\n",
       "      <th>2015-06-26 00:00:00-04:00</th>\n",
       "      <td>28.593838</td>\n",
       "      <td>28.665507</td>\n",
       "      <td>28.334037</td>\n",
       "      <td>28.387789</td>\n",
       "      <td>176267200</td>\n",
       "      <td>0.0</td>\n",
       "      <td>0.0</td>\n",
       "    </tr>\n",
       "    <tr>\n",
       "      <th>2015-06-29 00:00:00-04:00</th>\n",
       "      <td>28.098880</td>\n",
       "      <td>28.325087</td>\n",
       "      <td>27.879393</td>\n",
       "      <td>27.890591</td>\n",
       "      <td>196645600</td>\n",
       "      <td>0.0</td>\n",
       "      <td>0.0</td>\n",
       "    </tr>\n",
       "    <tr>\n",
       "      <th>...</th>\n",
       "      <td>...</td>\n",
       "      <td>...</td>\n",
       "      <td>...</td>\n",
       "      <td>...</td>\n",
       "      <td>...</td>\n",
       "      <td>...</td>\n",
       "      <td>...</td>\n",
       "    </tr>\n",
       "    <tr>\n",
       "      <th>2025-06-16 00:00:00-04:00</th>\n",
       "      <td>197.300003</td>\n",
       "      <td>198.690002</td>\n",
       "      <td>196.559998</td>\n",
       "      <td>198.419998</td>\n",
       "      <td>43020700</td>\n",
       "      <td>0.0</td>\n",
       "      <td>0.0</td>\n",
       "    </tr>\n",
       "    <tr>\n",
       "      <th>2025-06-17 00:00:00-04:00</th>\n",
       "      <td>197.199997</td>\n",
       "      <td>198.389999</td>\n",
       "      <td>195.210007</td>\n",
       "      <td>195.639999</td>\n",
       "      <td>38856200</td>\n",
       "      <td>0.0</td>\n",
       "      <td>0.0</td>\n",
       "    </tr>\n",
       "    <tr>\n",
       "      <th>2025-06-18 00:00:00-04:00</th>\n",
       "      <td>195.940002</td>\n",
       "      <td>197.570007</td>\n",
       "      <td>195.070007</td>\n",
       "      <td>196.580002</td>\n",
       "      <td>45394700</td>\n",
       "      <td>0.0</td>\n",
       "      <td>0.0</td>\n",
       "    </tr>\n",
       "    <tr>\n",
       "      <th>2025-06-20 00:00:00-04:00</th>\n",
       "      <td>198.240005</td>\n",
       "      <td>201.699997</td>\n",
       "      <td>196.860001</td>\n",
       "      <td>201.000000</td>\n",
       "      <td>95914700</td>\n",
       "      <td>0.0</td>\n",
       "      <td>0.0</td>\n",
       "    </tr>\n",
       "    <tr>\n",
       "      <th>2025-06-23 00:00:00-04:00</th>\n",
       "      <td>201.531998</td>\n",
       "      <td>202.300003</td>\n",
       "      <td>198.960007</td>\n",
       "      <td>201.949997</td>\n",
       "      <td>32667974</td>\n",
       "      <td>0.0</td>\n",
       "      <td>0.0</td>\n",
       "    </tr>\n",
       "  </tbody>\n",
       "</table>\n",
       "<p>2515 rows × 7 columns</p>\n",
       "</div>"
      ],
      "text/plain": [
       "                                 Open        High         Low       Close  \\\n",
       "Date                                                                        \n",
       "2015-06-23 00:00:00-04:00   28.551294   28.580409   28.416913   28.450508   \n",
       "2015-06-24 00:00:00-04:00   28.490822   29.070897   28.470666   28.692392   \n",
       "2015-06-25 00:00:00-04:00   28.860366   28.936514   28.555771   28.555771   \n",
       "2015-06-26 00:00:00-04:00   28.593838   28.665507   28.334037   28.387789   \n",
       "2015-06-29 00:00:00-04:00   28.098880   28.325087   27.879393   27.890591   \n",
       "...                               ...         ...         ...         ...   \n",
       "2025-06-16 00:00:00-04:00  197.300003  198.690002  196.559998  198.419998   \n",
       "2025-06-17 00:00:00-04:00  197.199997  198.389999  195.210007  195.639999   \n",
       "2025-06-18 00:00:00-04:00  195.940002  197.570007  195.070007  196.580002   \n",
       "2025-06-20 00:00:00-04:00  198.240005  201.699997  196.860001  201.000000   \n",
       "2025-06-23 00:00:00-04:00  201.531998  202.300003  198.960007  201.949997   \n",
       "\n",
       "                              Volume  Dividends  Stock Splits  \n",
       "Date                                                           \n",
       "2015-06-23 00:00:00-04:00  121075600        0.0           0.0  \n",
       "2015-06-24 00:00:00-04:00  221123600        0.0           0.0  \n",
       "2015-06-25 00:00:00-04:00  127752400        0.0           0.0  \n",
       "2015-06-26 00:00:00-04:00  176267200        0.0           0.0  \n",
       "2015-06-29 00:00:00-04:00  196645600        0.0           0.0  \n",
       "...                              ...        ...           ...  \n",
       "2025-06-16 00:00:00-04:00   43020700        0.0           0.0  \n",
       "2025-06-17 00:00:00-04:00   38856200        0.0           0.0  \n",
       "2025-06-18 00:00:00-04:00   45394700        0.0           0.0  \n",
       "2025-06-20 00:00:00-04:00   95914700        0.0           0.0  \n",
       "2025-06-23 00:00:00-04:00   32667974        0.0           0.0  \n",
       "\n",
       "[2515 rows x 7 columns]"
      ]
     },
     "execution_count": 6,
     "metadata": {},
     "output_type": "execute_result"
    }
   ],
   "source": [
    "#Show data\n",
    "df"
   ]
  },
  {
   "cell_type": "markdown",
   "id": "a35d4c86-e3a8-49bd-9bff-8eae78cacb79",
   "metadata": {
    "id": "a35d4c86-e3a8-49bd-9bff-8eae78cacb79"
   },
   "source": [
    "## Cleaning and visualising price data."
   ]
  },
  {
   "cell_type": "markdown",
   "id": "kQsdHCXj8qKK",
   "metadata": {
    "id": "kQsdHCXj8qKK"
   },
   "source": [
    "Convert timezone to Harare, Zimbabwe time."
   ]
  },
  {
   "cell_type": "code",
   "execution_count": 7,
   "id": "kSNqxtO73WtE",
   "metadata": {
    "id": "kSNqxtO73WtE"
   },
   "outputs": [],
   "source": [
    "df=df.tz_convert(\"africa/harare\")"
   ]
  },
  {
   "cell_type": "markdown",
   "id": "9282c2e9",
   "metadata": {},
   "source": [
    "Checking Correlation"
   ]
  },
  {
   "cell_type": "code",
   "execution_count": 8,
   "id": "cf5ceef1",
   "metadata": {},
   "outputs": [
    {
     "data": {
      "text/plain": [
       "Close           1.000000\n",
       "High            0.999837\n",
       "Low             0.999830\n",
       "Open            0.999643\n",
       "Dividends       0.024898\n",
       "Stock Splits    0.006603\n",
       "Volume         -0.538042\n",
       "Name: Close, dtype: float64"
      ]
     },
     "execution_count": 8,
     "metadata": {},
     "output_type": "execute_result"
    }
   ],
   "source": [
    "df.corr()[\"Close\"].sort_values(ascending=False)"
   ]
  },
  {
   "cell_type": "code",
   "execution_count": 9,
   "id": "47276d5c-d1a9-49cb-a94f-1dff00de7ffc",
   "metadata": {
    "id": "47276d5c-d1a9-49cb-a94f-1dff00de7ffc"
   },
   "outputs": [],
   "source": [
    "del df[\"Dividends\"]\n",
    "del df[\"Stock Splits\"]"
   ]
  },
  {
   "cell_type": "code",
   "execution_count": 10,
   "id": "aHPBONZ-2tU3",
   "metadata": {
    "colab": {
     "base_uri": "https://localhost:8080/",
     "height": 455
    },
    "id": "aHPBONZ-2tU3",
    "outputId": "e6cf7c2e-1b96-4520-e1ff-670c43660567"
   },
   "outputs": [
    {
     "data": {
      "text/html": [
       "<div>\n",
       "<style scoped>\n",
       "    .dataframe tbody tr th:only-of-type {\n",
       "        vertical-align: middle;\n",
       "    }\n",
       "\n",
       "    .dataframe tbody tr th {\n",
       "        vertical-align: top;\n",
       "    }\n",
       "\n",
       "    .dataframe thead th {\n",
       "        text-align: right;\n",
       "    }\n",
       "</style>\n",
       "<table border=\"1\" class=\"dataframe\">\n",
       "  <thead>\n",
       "    <tr style=\"text-align: right;\">\n",
       "      <th></th>\n",
       "      <th>Open</th>\n",
       "      <th>High</th>\n",
       "      <th>Low</th>\n",
       "      <th>Close</th>\n",
       "      <th>Volume</th>\n",
       "    </tr>\n",
       "    <tr>\n",
       "      <th>Date</th>\n",
       "      <th></th>\n",
       "      <th></th>\n",
       "      <th></th>\n",
       "      <th></th>\n",
       "      <th></th>\n",
       "    </tr>\n",
       "  </thead>\n",
       "  <tbody>\n",
       "    <tr>\n",
       "      <th>2015-06-23 06:00:00+02:00</th>\n",
       "      <td>28.551294</td>\n",
       "      <td>28.580409</td>\n",
       "      <td>28.416913</td>\n",
       "      <td>28.450508</td>\n",
       "      <td>121075600</td>\n",
       "    </tr>\n",
       "    <tr>\n",
       "      <th>2015-06-24 06:00:00+02:00</th>\n",
       "      <td>28.490822</td>\n",
       "      <td>29.070897</td>\n",
       "      <td>28.470666</td>\n",
       "      <td>28.692392</td>\n",
       "      <td>221123600</td>\n",
       "    </tr>\n",
       "    <tr>\n",
       "      <th>2015-06-25 06:00:00+02:00</th>\n",
       "      <td>28.860366</td>\n",
       "      <td>28.936514</td>\n",
       "      <td>28.555771</td>\n",
       "      <td>28.555771</td>\n",
       "      <td>127752400</td>\n",
       "    </tr>\n",
       "    <tr>\n",
       "      <th>2015-06-26 06:00:00+02:00</th>\n",
       "      <td>28.593838</td>\n",
       "      <td>28.665507</td>\n",
       "      <td>28.334037</td>\n",
       "      <td>28.387789</td>\n",
       "      <td>176267200</td>\n",
       "    </tr>\n",
       "    <tr>\n",
       "      <th>2015-06-29 06:00:00+02:00</th>\n",
       "      <td>28.098880</td>\n",
       "      <td>28.325087</td>\n",
       "      <td>27.879393</td>\n",
       "      <td>27.890591</td>\n",
       "      <td>196645600</td>\n",
       "    </tr>\n",
       "    <tr>\n",
       "      <th>...</th>\n",
       "      <td>...</td>\n",
       "      <td>...</td>\n",
       "      <td>...</td>\n",
       "      <td>...</td>\n",
       "      <td>...</td>\n",
       "    </tr>\n",
       "    <tr>\n",
       "      <th>2025-06-16 06:00:00+02:00</th>\n",
       "      <td>197.300003</td>\n",
       "      <td>198.690002</td>\n",
       "      <td>196.559998</td>\n",
       "      <td>198.419998</td>\n",
       "      <td>43020700</td>\n",
       "    </tr>\n",
       "    <tr>\n",
       "      <th>2025-06-17 06:00:00+02:00</th>\n",
       "      <td>197.199997</td>\n",
       "      <td>198.389999</td>\n",
       "      <td>195.210007</td>\n",
       "      <td>195.639999</td>\n",
       "      <td>38856200</td>\n",
       "    </tr>\n",
       "    <tr>\n",
       "      <th>2025-06-18 06:00:00+02:00</th>\n",
       "      <td>195.940002</td>\n",
       "      <td>197.570007</td>\n",
       "      <td>195.070007</td>\n",
       "      <td>196.580002</td>\n",
       "      <td>45394700</td>\n",
       "    </tr>\n",
       "    <tr>\n",
       "      <th>2025-06-20 06:00:00+02:00</th>\n",
       "      <td>198.240005</td>\n",
       "      <td>201.699997</td>\n",
       "      <td>196.860001</td>\n",
       "      <td>201.000000</td>\n",
       "      <td>95914700</td>\n",
       "    </tr>\n",
       "    <tr>\n",
       "      <th>2025-06-23 06:00:00+02:00</th>\n",
       "      <td>201.531998</td>\n",
       "      <td>202.300003</td>\n",
       "      <td>198.960007</td>\n",
       "      <td>201.949997</td>\n",
       "      <td>32667974</td>\n",
       "    </tr>\n",
       "  </tbody>\n",
       "</table>\n",
       "<p>2515 rows × 5 columns</p>\n",
       "</div>"
      ],
      "text/plain": [
       "                                 Open        High         Low       Close  \\\n",
       "Date                                                                        \n",
       "2015-06-23 06:00:00+02:00   28.551294   28.580409   28.416913   28.450508   \n",
       "2015-06-24 06:00:00+02:00   28.490822   29.070897   28.470666   28.692392   \n",
       "2015-06-25 06:00:00+02:00   28.860366   28.936514   28.555771   28.555771   \n",
       "2015-06-26 06:00:00+02:00   28.593838   28.665507   28.334037   28.387789   \n",
       "2015-06-29 06:00:00+02:00   28.098880   28.325087   27.879393   27.890591   \n",
       "...                               ...         ...         ...         ...   \n",
       "2025-06-16 06:00:00+02:00  197.300003  198.690002  196.559998  198.419998   \n",
       "2025-06-17 06:00:00+02:00  197.199997  198.389999  195.210007  195.639999   \n",
       "2025-06-18 06:00:00+02:00  195.940002  197.570007  195.070007  196.580002   \n",
       "2025-06-20 06:00:00+02:00  198.240005  201.699997  196.860001  201.000000   \n",
       "2025-06-23 06:00:00+02:00  201.531998  202.300003  198.960007  201.949997   \n",
       "\n",
       "                              Volume  \n",
       "Date                                  \n",
       "2015-06-23 06:00:00+02:00  121075600  \n",
       "2015-06-24 06:00:00+02:00  221123600  \n",
       "2015-06-25 06:00:00+02:00  127752400  \n",
       "2015-06-26 06:00:00+02:00  176267200  \n",
       "2015-06-29 06:00:00+02:00  196645600  \n",
       "...                              ...  \n",
       "2025-06-16 06:00:00+02:00   43020700  \n",
       "2025-06-17 06:00:00+02:00   38856200  \n",
       "2025-06-18 06:00:00+02:00   45394700  \n",
       "2025-06-20 06:00:00+02:00   95914700  \n",
       "2025-06-23 06:00:00+02:00   32667974  \n",
       "\n",
       "[2515 rows x 5 columns]"
      ]
     },
     "execution_count": 10,
     "metadata": {},
     "output_type": "execute_result"
    }
   ],
   "source": [
    "df"
   ]
  },
  {
   "cell_type": "code",
   "execution_count": 11,
   "id": "8a2c438f-94fa-44b2-82b8-3e5a703bee7e",
   "metadata": {
    "colab": {
     "base_uri": "https://localhost:8080/",
     "height": 444
    },
    "id": "8a2c438f-94fa-44b2-82b8-3e5a703bee7e",
    "outputId": "b3861ec6-2261-41a7-a40c-79b253a3838e"
   },
   "outputs": [
    {
     "data": {
      "image/png": "[encoded data removed]",
      "text/plain": [
       "<Figure size 640x480 with 1 Axes>"
      ]
     },
     "metadata": {},
     "output_type": "display_data"
    }
   ],
   "source": [
    "chart= df.plot.line(y=\"Close\", title= (f\"{name} Trend Over Time\"), use_index=True);\n"
   ]
  },
  {
   "cell_type": "markdown",
   "id": "87b6db30-37bc-4266-bb49-01406e66991e",
   "metadata": {
    "id": "87b6db30-37bc-4266-bb49-01406e66991e"
   },
   "source": [
    "## Setting up Prediction."
   ]
  },
  {
   "cell_type": "code",
   "execution_count": 12,
   "id": "914ae4f7-f43b-4e08-8df1-d0b899d90786",
   "metadata": {
    "id": "914ae4f7-f43b-4e08-8df1-d0b899d90786"
   },
   "outputs": [],
   "source": [
    "#creating a next day column and the closing price\n",
    "df[\"Next Day\"]= df[\"Close\"].shift(-1)"
   ]
  },
  {
   "cell_type": "code",
   "execution_count": 13,
   "id": "9e544738-2c4c-48f3-9a92-8c674cba503f",
   "metadata": {
    "id": "9e544738-2c4c-48f3-9a92-8c674cba503f"
   },
   "outputs": [],
   "source": [
    "df[\"Target\"] = (df[\"Next Day\"] >df[\"Close\"]).astype(int)"
   ]
  },
  {
   "cell_type": "code",
   "execution_count": 14,
   "id": "a3dd71dc-548a-4a56-9f2b-7817084aeaf4",
   "metadata": {
    "colab": {
     "base_uri": "https://localhost:8080/",
     "height": 455
    },
    "id": "a3dd71dc-548a-4a56-9f2b-7817084aeaf4",
    "outputId": "1c7a69b1-2b72-49e2-d5d4-cb2303988eb7"
   },
   "outputs": [
    {
     "data": {
      "text/html": [
       "<div>\n",
       "<style scoped>\n",
       "    .dataframe tbody tr th:only-of-type {\n",
       "        vertical-align: middle;\n",
       "    }\n",
       "\n",
       "    .dataframe tbody tr th {\n",
       "        vertical-align: top;\n",
       "    }\n",
       "\n",
       "    .dataframe thead th {\n",
       "        text-align: right;\n",
       "    }\n",
       "</style>\n",
       "<table border=\"1\" class=\"dataframe\">\n",
       "  <thead>\n",
       "    <tr style=\"text-align: right;\">\n",
       "      <th></th>\n",
       "      <th>Open</th>\n",
       "      <th>High</th>\n",
       "      <th>Low</th>\n",
       "      <th>Close</th>\n",
       "      <th>Volume</th>\n",
       "      <th>Next Day</th>\n",
       "      <th>Target</th>\n",
       "    </tr>\n",
       "    <tr>\n",
       "      <th>Date</th>\n",
       "      <th></th>\n",
       "      <th></th>\n",
       "      <th></th>\n",
       "      <th></th>\n",
       "      <th></th>\n",
       "      <th></th>\n",
       "      <th></th>\n",
       "    </tr>\n",
       "  </thead>\n",
       "  <tbody>\n",
       "    <tr>\n",
       "      <th>2015-06-23 06:00:00+02:00</th>\n",
       "      <td>28.551294</td>\n",
       "      <td>28.580409</td>\n",
       "      <td>28.416913</td>\n",
       "      <td>28.450508</td>\n",
       "      <td>121075600</td>\n",
       "      <td>28.692392</td>\n",
       "      <td>1</td>\n",
       "    </tr>\n",
       "    <tr>\n",
       "      <th>2015-06-24 06:00:00+02:00</th>\n",
       "      <td>28.490822</td>\n",
       "      <td>29.070897</td>\n",
       "      <td>28.470666</td>\n",
       "      <td>28.692392</td>\n",
       "      <td>221123600</td>\n",
       "      <td>28.555771</td>\n",
       "      <td>0</td>\n",
       "    </tr>\n",
       "    <tr>\n",
       "      <th>2015-06-25 06:00:00+02:00</th>\n",
       "      <td>28.860366</td>\n",
       "      <td>28.936514</td>\n",
       "      <td>28.555771</td>\n",
       "      <td>28.555771</td>\n",
       "      <td>127752400</td>\n",
       "      <td>28.387789</td>\n",
       "      <td>0</td>\n",
       "    </tr>\n",
       "    <tr>\n",
       "      <th>2015-06-26 06:00:00+02:00</th>\n",
       "      <td>28.593838</td>\n",
       "      <td>28.665507</td>\n",
       "      <td>28.334037</td>\n",
       "      <td>28.387789</td>\n",
       "      <td>176267200</td>\n",
       "      <td>27.890591</td>\n",
       "      <td>0</td>\n",
       "    </tr>\n",
       "    <tr>\n",
       "      <th>2015-06-29 06:00:00+02:00</th>\n",
       "      <td>28.098880</td>\n",
       "      <td>28.325087</td>\n",
       "      <td>27.879393</td>\n",
       "      <td>27.890591</td>\n",
       "      <td>196645600</td>\n",
       "      <td>28.092159</td>\n",
       "      <td>1</td>\n",
       "    </tr>\n",
       "    <tr>\n",
       "      <th>...</th>\n",
       "      <td>...</td>\n",
       "      <td>...</td>\n",
       "      <td>...</td>\n",
       "      <td>...</td>\n",
       "      <td>...</td>\n",
       "      <td>...</td>\n",
       "      <td>...</td>\n",
       "    </tr>\n",
       "    <tr>\n",
       "      <th>2025-06-16 06:00:00+02:00</th>\n",
       "      <td>197.300003</td>\n",
       "      <td>198.690002</td>\n",
       "      <td>196.559998</td>\n",
       "      <td>198.419998</td>\n",
       "      <td>43020700</td>\n",
       "      <td>195.639999</td>\n",
       "      <td>0</td>\n",
       "    </tr>\n",
       "    <tr>\n",
       "      <th>2025-06-17 06:00:00+02:00</th>\n",
       "      <td>197.199997</td>\n",
       "      <td>198.389999</td>\n",
       "      <td>195.210007</td>\n",
       "      <td>195.639999</td>\n",
       "      <td>38856200</td>\n",
       "      <td>196.580002</td>\n",
       "      <td>1</td>\n",
       "    </tr>\n",
       "    <tr>\n",
       "      <th>2025-06-18 06:00:00+02:00</th>\n",
       "      <td>195.940002</td>\n",
       "      <td>197.570007</td>\n",
       "      <td>195.070007</td>\n",
       "      <td>196.580002</td>\n",
       "      <td>45394700</td>\n",
       "      <td>201.000000</td>\n",
       "      <td>1</td>\n",
       "    </tr>\n",
       "    <tr>\n",
       "      <th>2025-06-20 06:00:00+02:00</th>\n",
       "      <td>198.240005</td>\n",
       "      <td>201.699997</td>\n",
       "      <td>196.860001</td>\n",
       "      <td>201.000000</td>\n",
       "      <td>95914700</td>\n",
       "      <td>201.949997</td>\n",
       "      <td>1</td>\n",
       "    </tr>\n",
       "    <tr>\n",
       "      <th>2025-06-23 06:00:00+02:00</th>\n",
       "      <td>201.531998</td>\n",
       "      <td>202.300003</td>\n",
       "      <td>198.960007</td>\n",
       "      <td>201.949997</td>\n",
       "      <td>32667974</td>\n",
       "      <td>NaN</td>\n",
       "      <td>0</td>\n",
       "    </tr>\n",
       "  </tbody>\n",
       "</table>\n",
       "<p>2515 rows × 7 columns</p>\n",
       "</div>"
      ],
      "text/plain": [
       "                                 Open        High         Low       Close  \\\n",
       "Date                                                                        \n",
       "2015-06-23 06:00:00+02:00   28.551294   28.580409   28.416913   28.450508   \n",
       "2015-06-24 06:00:00+02:00   28.490822   29.070897   28.470666   28.692392   \n",
       "2015-06-25 06:00:00+02:00   28.860366   28.936514   28.555771   28.555771   \n",
       "2015-06-26 06:00:00+02:00   28.593838   28.665507   28.334037   28.387789   \n",
       "2015-06-29 06:00:00+02:00   28.098880   28.325087   27.879393   27.890591   \n",
       "...                               ...         ...         ...         ...   \n",
       "2025-06-16 06:00:00+02:00  197.300003  198.690002  196.559998  198.419998   \n",
       "2025-06-17 06:00:00+02:00  197.199997  198.389999  195.210007  195.639999   \n",
       "2025-06-18 06:00:00+02:00  195.940002  197.570007  195.070007  196.580002   \n",
       "2025-06-20 06:00:00+02:00  198.240005  201.699997  196.860001  201.000000   \n",
       "2025-06-23 06:00:00+02:00  201.531998  202.300003  198.960007  201.949997   \n",
       "\n",
       "                              Volume    Next Day  Target  \n",
       "Date                                                      \n",
       "2015-06-23 06:00:00+02:00  121075600   28.692392       1  \n",
       "2015-06-24 06:00:00+02:00  221123600   28.555771       0  \n",
       "2015-06-25 06:00:00+02:00  127752400   28.387789       0  \n",
       "2015-06-26 06:00:00+02:00  176267200   27.890591       0  \n",
       "2015-06-29 06:00:00+02:00  196645600   28.092159       1  \n",
       "...                              ...         ...     ...  \n",
       "2025-06-16 06:00:00+02:00   43020700  195.639999       0  \n",
       "2025-06-17 06:00:00+02:00   38856200  196.580002       1  \n",
       "2025-06-18 06:00:00+02:00   45394700  201.000000       1  \n",
       "2025-06-20 06:00:00+02:00   95914700  201.949997       1  \n",
       "2025-06-23 06:00:00+02:00   32667974         NaN       0  \n",
       "\n",
       "[2515 rows x 7 columns]"
      ]
     },
     "execution_count": 14,
     "metadata": {},
     "output_type": "execute_result"
    }
   ],
   "source": [
    "df"
   ]
  },
  {
   "cell_type": "markdown",
   "id": "2cd39ef5",
   "metadata": {
    "id": "2cd39ef5"
   },
   "source": [
    "Target is if the price will go up or down on the next day.\n",
    "\n",
    " 1 means price will go up,  0 means price will go down.\n"
   ]
  },
  {
   "cell_type": "markdown",
   "id": "892b9f76-fe71-40df-9f51-82ee43d9bfab",
   "metadata": {
    "id": "892b9f76-fe71-40df-9f51-82ee43d9bfab"
   },
   "source": [
    "## Building and training a model"
   ]
  },
  {
   "cell_type": "code",
   "execution_count": 15,
   "id": "f7814f53-d31a-4b48-8e0c-fab749be63fb",
   "metadata": {
    "colab": {
     "base_uri": "https://localhost:8080/",
     "height": 80
    },
    "id": "f7814f53-d31a-4b48-8e0c-fab749be63fb",
    "outputId": "14b2e79d-76f2-4071-8dac-cea591aac4ba"
   },
   "outputs": [
    {
     "data": {
      "text/html": [
       "<style>#sk-container-id-1 {\n",
       "  /* Definition of color scheme common for light and dark mode */\n",
       "  --sklearn-color-text: #000;\n",
       "  --sklearn-color-text-muted: #666;\n",
       "  --sklearn-color-line: gray;\n",
       "  /* Definition of color scheme for unfitted estimators */\n",
       "  --sklearn-color-unfitted-level-0: #fff5e6;\n",
       "  --sklearn-color-unfitted-level-1: #f6e4d2;\n",
       "  --sklearn-color-unfitted-level-2: #ffe0b3;\n",
       "  --sklearn-color-unfitted-level-3: chocolate;\n",
       "  /* Definition of color scheme for fitted estimators */\n",
       "  --sklearn-color-fitted-level-0: #f0f8ff;\n",
       "  --sklearn-color-fitted-level-1: #d4ebff;\n",
       "  --sklearn-color-fitted-level-2: #b3dbfd;\n",
       "  --sklearn-color-fitted-level-3: cornflowerblue;\n",
       "\n",
       "  /* Specific color for light theme */\n",
       "  --sklearn-color-text-on-default-background: var(--sg-text-color, var(--theme-code-foreground, var(--jp-content-font-color1, black)));\n",
       "  --sklearn-color-background: var(--sg-background-color, var(--theme-background, var(--jp-layout-color0, white)));\n",
       "  --sklearn-color-border-box: var(--sg-text-color, var(--theme-code-foreground, var(--jp-content-font-color1, black)));\n",
       "  --sklearn-color-icon: #696969;\n",
       "\n",
       "  @media (prefers-color-scheme: dark) {\n",
       "    /* Redefinition of color scheme for dark theme */\n",
       "    --sklearn-color-text-on-default-background: var(--sg-text-color, var(--theme-code-foreground, var(--jp-content-font-color1, white)));\n",
       "    --sklearn-color-background: var(--sg-background-color, var(--theme-background, var(--jp-layout-color0, #111)));\n",
       "    --sklearn-color-border-box: var(--sg-text-color, var(--theme-code-foreground, var(--jp-content-font-color1, white)));\n",
       "    --sklearn-color-icon: #878787;\n",
       "  }\n",
       "}\n",
       "\n",
       "#sk-container-id-1 {\n",
       "  color: var(--sklearn-color-text);\n",
       "}\n",
       "\n",
       "#sk-container-id-1 pre {\n",
       "  padding: 0;\n",
       "}\n",
       "\n",
       "#sk-container-id-1 input.sk-hidden--visually {\n",
       "  border: 0;\n",
       "  clip: rect(1px 1px 1px 1px);\n",
       "  clip: rect(1px, 1px, 1px, 1px);\n",
       "  height: 1px;\n",
       "  margin: -1px;\n",
       "  overflow: hidden;\n",
       "  padding: 0;\n",
       "  position: absolute;\n",
       "  width: 1px;\n",
       "}\n",
       "\n",
       "#sk-container-id-1 div.sk-dashed-wrapped {\n",
       "  border: 1px dashed var(--sklearn-color-line);\n",
       "  margin: 0 0.4em 0.5em 0.4em;\n",
       "  box-sizing: border-box;\n",
       "  padding-bottom: 0.4em;\n",
       "  background-color: var(--sklearn-color-background);\n",
       "}\n",
       "\n",
       "#sk-container-id-1 div.sk-container {\n",
       "  /* jupyter's `normalize.less` sets `[hidden] { display: none; }`\n",
       "     but bootstrap.min.css set `[hidden] { display: none !important; }`\n",
       "     so we also need the `!important` here to be able to override the\n",
       "     default hidden behavior on the sphinx rendered scikit-learn.org.\n",
       "     See: https://github.com/scikit-learn/scikit-learn/issues/21755 */\n",
       "  display: inline-block !important;\n",
       "  position: relative;\n",
       "}\n",
       "\n",
       "#sk-container-id-1 div.sk-text-repr-fallback {\n",
       "  display: none;\n",
       "}\n",
       "\n",
       "div.sk-parallel-item,\n",
       "div.sk-serial,\n",
       "div.sk-item {\n",
       "  /* draw centered vertical line to link estimators */\n",
       "  background-image: linear-gradient(var(--sklearn-color-text-on-default-background), var(--sklearn-color-text-on-default-background));\n",
       "  background-size: 2px 100%;\n",
       "  background-repeat: no-repeat;\n",
       "  background-position: center center;\n",
       "}\n",
       "\n",
       "/* Parallel-specific style estimator block */\n",
       "\n",
       "#sk-container-id-1 div.sk-parallel-item::after {\n",
       "  content: \"\";\n",
       "  width: 100%;\n",
       "  border-bottom: 2px solid var(--sklearn-color-text-on-default-background);\n",
       "  flex-grow: 1;\n",
       "}\n",
       "\n",
       "#sk-container-id-1 div.sk-parallel {\n",
       "  display: flex;\n",
       "  align-items: stretch;\n",
       "  justify-content: center;\n",
       "  background-color: var(--sklearn-color-background);\n",
       "  position: relative;\n",
       "}\n",
       "\n",
       "#sk-container-id-1 div.sk-parallel-item {\n",
       "  display: flex;\n",
       "  flex-direction: column;\n",
       "}\n",
       "\n",
       "#sk-container-id-1 div.sk-parallel-item:first-child::after {\n",
       "  align-self: flex-end;\n",
       "  width: 50%;\n",
       "}\n",
       "\n",
       "#sk-container-id-1 div.sk-parallel-item:last-child::after {\n",
       "  align-self: flex-start;\n",
       "  width: 50%;\n",
       "}\n",
       "\n",
       "#sk-container-id-1 div.sk-parallel-item:only-child::after {\n",
       "  width: 0;\n",
       "}\n",
       "\n",
       "/* Serial-specific style estimator block */\n",
       "\n",
       "#sk-container-id-1 div.sk-serial {\n",
       "  display: flex;\n",
       "  flex-direction: column;\n",
       "  align-items: center;\n",
       "  background-color: var(--sklearn-color-background);\n",
       "  padding-right: 1em;\n",
       "  padding-left: 1em;\n",
       "}\n",
       "\n",
       "\n",
       "/* Toggleable style: style used for estimator/Pipeline/ColumnTransformer box that is\n",
       "clickable and can be expanded/collapsed.\n",
       "- Pipeline and ColumnTransformer use this feature and define the default style\n",
       "- Estimators will overwrite some part of the style using the `sk-estimator` class\n",
       "*/\n",
       "\n",
       "/* Pipeline and ColumnTransformer style (default) */\n",
       "\n",
       "#sk-container-id-1 div.sk-toggleable {\n",
       "  /* Default theme specific background. It is overwritten whether we have a\n",
       "  specific estimator or a Pipeline/ColumnTransformer */\n",
       "  background-color: var(--sklearn-color-background);\n",
       "}\n",
       "\n",
       "/* Toggleable label */\n",
       "#sk-container-id-1 label.sk-toggleable__label {\n",
       "  cursor: pointer;\n",
       "  display: flex;\n",
       "  width: 100%;\n",
       "  margin-bottom: 0;\n",
       "  padding: 0.5em;\n",
       "  box-sizing: border-box;\n",
       "  text-align: center;\n",
       "  align-items: start;\n",
       "  justify-content: space-between;\n",
       "  gap: 0.5em;\n",
       "}\n",
       "\n",
       "#sk-container-id-1 label.sk-toggleable__label .caption {\n",
       "  font-size: 0.6rem;\n",
       "  font-weight: lighter;\n",
       "  color: var(--sklearn-color-text-muted);\n",
       "}\n",
       "\n",
       "#sk-container-id-1 label.sk-toggleable__label-arrow:before {\n",
       "  /* Arrow on the left of the label */\n",
       "  content: \"▸\";\n",
       "  float: left;\n",
       "  margin-right: 0.25em;\n",
       "  color: var(--sklearn-color-icon);\n",
       "}\n",
       "\n",
       "#sk-container-id-1 label.sk-toggleable__label-arrow:hover:before {\n",
       "  color: var(--sklearn-color-text);\n",
       "}\n",
       "\n",
       "/* Toggleable content - dropdown */\n",
       "\n",
       "#sk-container-id-1 div.sk-toggleable__content {\n",
       "  max-height: 0;\n",
       "  max-width: 0;\n",
       "  overflow: hidden;\n",
       "  text-align: left;\n",
       "  /* unfitted */\n",
       "  background-color: var(--sklearn-color-unfitted-level-0);\n",
       "}\n",
       "\n",
       "#sk-container-id-1 div.sk-toggleable__content.fitted {\n",
       "  /* fitted */\n",
       "  background-color: var(--sklearn-color-fitted-level-0);\n",
       "}\n",
       "\n",
       "#sk-container-id-1 div.sk-toggleable__content pre {\n",
       "  margin: 0.2em;\n",
       "  border-radius: 0.25em;\n",
       "  color: var(--sklearn-color-text);\n",
       "  /* unfitted */\n",
       "  background-color: var(--sklearn-color-unfitted-level-0);\n",
       "}\n",
       "\n",
       "#sk-container-id-1 div.sk-toggleable__content.fitted pre {\n",
       "  /* unfitted */\n",
       "  background-color: var(--sklearn-color-fitted-level-0);\n",
       "}\n",
       "\n",
       "#sk-container-id-1 input.sk-toggleable__control:checked~div.sk-toggleable__content {\n",
       "  /* Expand drop-down */\n",
       "  max-height: 200px;\n",
       "  max-width: 100%;\n",
       "  overflow: auto;\n",
       "}\n",
       "\n",
       "#sk-container-id-1 input.sk-toggleable__control:checked~label.sk-toggleable__label-arrow:before {\n",
       "  content: \"▾\";\n",
       "}\n",
       "\n",
       "/* Pipeline/ColumnTransformer-specific style */\n",
       "\n",
       "#sk-container-id-1 div.sk-label input.sk-toggleable__control:checked~label.sk-toggleable__label {\n",
       "  color: var(--sklearn-color-text);\n",
       "  background-color: var(--sklearn-color-unfitted-level-2);\n",
       "}\n",
       "\n",
       "#sk-container-id-1 div.sk-label.fitted input.sk-toggleable__control:checked~label.sk-toggleable__label {\n",
       "  background-color: var(--sklearn-color-fitted-level-2);\n",
       "}\n",
       "\n",
       "/* Estimator-specific style */\n",
       "\n",
       "/* Colorize estimator box */\n",
       "#sk-container-id-1 div.sk-estimator input.sk-toggleable__control:checked~label.sk-toggleable__label {\n",
       "  /* unfitted */\n",
       "  background-color: var(--sklearn-color-unfitted-level-2);\n",
       "}\n",
       "\n",
       "#sk-container-id-1 div.sk-estimator.fitted input.sk-toggleable__control:checked~label.sk-toggleable__label {\n",
       "  /* fitted */\n",
       "  background-color: var(--sklearn-color-fitted-level-2);\n",
       "}\n",
       "\n",
       "#sk-container-id-1 div.sk-label label.sk-toggleable__label,\n",
       "#sk-container-id-1 div.sk-label label {\n",
       "  /* The background is the default theme color */\n",
       "  color: var(--sklearn-color-text-on-default-background);\n",
       "}\n",
       "\n",
       "/* On hover, darken the color of the background */\n",
       "#sk-container-id-1 div.sk-label:hover label.sk-toggleable__label {\n",
       "  color: var(--sklearn-color-text);\n",
       "  background-color: var(--sklearn-color-unfitted-level-2);\n",
       "}\n",
       "\n",
       "/* Label box, darken color on hover, fitted */\n",
       "#sk-container-id-1 div.sk-label.fitted:hover label.sk-toggleable__label.fitted {\n",
       "  color: var(--sklearn-color-text);\n",
       "  background-color: var(--sklearn-color-fitted-level-2);\n",
       "}\n",
       "\n",
       "/* Estimator label */\n",
       "\n",
       "#sk-container-id-1 div.sk-label label {\n",
       "  font-family: monospace;\n",
       "  font-weight: bold;\n",
       "  display: inline-block;\n",
       "  line-height: 1.2em;\n",
       "}\n",
       "\n",
       "#sk-container-id-1 div.sk-label-container {\n",
       "  text-align: center;\n",
       "}\n",
       "\n",
       "/* Estimator-specific */\n",
       "#sk-container-id-1 div.sk-estimator {\n",
       "  font-family: monospace;\n",
       "  border: 1px dotted var(--sklearn-color-border-box);\n",
       "  border-radius: 0.25em;\n",
       "  box-sizing: border-box;\n",
       "  margin-bottom: 0.5em;\n",
       "  /* unfitted */\n",
       "  background-color: var(--sklearn-color-unfitted-level-0);\n",
       "}\n",
       "\n",
       "#sk-container-id-1 div.sk-estimator.fitted {\n",
       "  /* fitted */\n",
       "  background-color: var(--sklearn-color-fitted-level-0);\n",
       "}\n",
       "\n",
       "/* on hover */\n",
       "#sk-container-id-1 div.sk-estimator:hover {\n",
       "  /* unfitted */\n",
       "  background-color: var(--sklearn-color-unfitted-level-2);\n",
       "}\n",
       "\n",
       "#sk-container-id-1 div.sk-estimator.fitted:hover {\n",
       "  /* fitted */\n",
       "  background-color: var(--sklearn-color-fitted-level-2);\n",
       "}\n",
       "\n",
       "/* Specification for estimator info (e.g. \"i\" and \"?\") */\n",
       "\n",
       "/* Common style for \"i\" and \"?\" */\n",
       "\n",
       ".sk-estimator-doc-link,\n",
       "a:link.sk-estimator-doc-link,\n",
       "a:visited.sk-estimator-doc-link {\n",
       "  float: right;\n",
       "  font-size: smaller;\n",
       "  line-height: 1em;\n",
       "  font-family: monospace;\n",
       "  background-color: var(--sklearn-color-background);\n",
       "  border-radius: 1em;\n",
       "  height: 1em;\n",
       "  width: 1em;\n",
       "  text-decoration: none !important;\n",
       "  margin-left: 0.5em;\n",
       "  text-align: center;\n",
       "  /* unfitted */\n",
       "  border: var(--sklearn-color-unfitted-level-1) 1pt solid;\n",
       "  color: var(--sklearn-color-unfitted-level-1);\n",
       "}\n",
       "\n",
       ".sk-estimator-doc-link.fitted,\n",
       "a:link.sk-estimator-doc-link.fitted,\n",
       "a:visited.sk-estimator-doc-link.fitted {\n",
       "  /* fitted */\n",
       "  border: var(--sklearn-color-fitted-level-1) 1pt solid;\n",
       "  color: var(--sklearn-color-fitted-level-1);\n",
       "}\n",
       "\n",
       "/* On hover */\n",
       "div.sk-estimator:hover .sk-estimator-doc-link:hover,\n",
       ".sk-estimator-doc-link:hover,\n",
       "div.sk-label-container:hover .sk-estimator-doc-link:hover,\n",
       ".sk-estimator-doc-link:hover {\n",
       "  /* unfitted */\n",
       "  background-color: var(--sklearn-color-unfitted-level-3);\n",
       "  color: var(--sklearn-color-background);\n",
       "  text-decoration: none;\n",
       "}\n",
       "\n",
       "div.sk-estimator.fitted:hover .sk-estimator-doc-link.fitted:hover,\n",
       ".sk-estimator-doc-link.fitted:hover,\n",
       "div.sk-label-container:hover .sk-estimator-doc-link.fitted:hover,\n",
       ".sk-estimator-doc-link.fitted:hover {\n",
       "  /* fitted */\n",
       "  background-color: var(--sklearn-color-fitted-level-3);\n",
       "  color: var(--sklearn-color-background);\n",
       "  text-decoration: none;\n",
       "}\n",
       "\n",
       "/* Span, style for the box shown on hovering the info icon */\n",
       ".sk-estimator-doc-link span {\n",
       "  display: none;\n",
       "  z-index: 9999;\n",
       "  position: relative;\n",
       "  font-weight: normal;\n",
       "  right: .2ex;\n",
       "  padding: .5ex;\n",
       "  margin: .5ex;\n",
       "  width: min-content;\n",
       "  min-width: 20ex;\n",
       "  max-width: 50ex;\n",
       "  color: var(--sklearn-color-text);\n",
       "  box-shadow: 2pt 2pt 4pt #999;\n",
       "  /* unfitted */\n",
       "  background: var(--sklearn-color-unfitted-level-0);\n",
       "  border: .5pt solid var(--sklearn-color-unfitted-level-3);\n",
       "}\n",
       "\n",
       ".sk-estimator-doc-link.fitted span {\n",
       "  /* fitted */\n",
       "  background: var(--sklearn-color-fitted-level-0);\n",
       "  border: var(--sklearn-color-fitted-level-3);\n",
       "}\n",
       "\n",
       ".sk-estimator-doc-link:hover span {\n",
       "  display: block;\n",
       "}\n",
       "\n",
       "/* \"?\"-specific style due to the `<a>` HTML tag */\n",
       "\n",
       "#sk-container-id-1 a.estimator_doc_link {\n",
       "  float: right;\n",
       "  font-size: 1rem;\n",
       "  line-height: 1em;\n",
       "  font-family: monospace;\n",
       "  background-color: var(--sklearn-color-background);\n",
       "  border-radius: 1rem;\n",
       "  height: 1rem;\n",
       "  width: 1rem;\n",
       "  text-decoration: none;\n",
       "  /* unfitted */\n",
       "  color: var(--sklearn-color-unfitted-level-1);\n",
       "  border: var(--sklearn-color-unfitted-level-1) 1pt solid;\n",
       "}\n",
       "\n",
       "#sk-container-id-1 a.estimator_doc_link.fitted {\n",
       "  /* fitted */\n",
       "  border: var(--sklearn-color-fitted-level-1) 1pt solid;\n",
       "  color: var(--sklearn-color-fitted-level-1);\n",
       "}\n",
       "\n",
       "/* On hover */\n",
       "#sk-container-id-1 a.estimator_doc_link:hover {\n",
       "  /* unfitted */\n",
       "  background-color: var(--sklearn-color-unfitted-level-3);\n",
       "  color: var(--sklearn-color-background);\n",
       "  text-decoration: none;\n",
       "}\n",
       "\n",
       "#sk-container-id-1 a.estimator_doc_link.fitted:hover {\n",
       "  /* fitted */\n",
       "  background-color: var(--sklearn-color-fitted-level-3);\n",
       "}\n",
       "</style><div id=\"sk-container-id-1\" class=\"sk-top-container\"><div class=\"sk-text-repr-fallback\"><pre>RandomForestClassifier(random_state=1)</pre><b>In a Jupyter environment, please rerun this cell to show the HTML representation or trust the notebook. <br />On GitHub, the HTML representation is unable to render, please try loading this page with nbviewer.org.</b></div><div class=\"sk-container\" hidden><div class=\"sk-item\"><div class=\"sk-estimator fitted sk-toggleable\"><input class=\"sk-toggleable__control sk-hidden--visually\" id=\"sk-estimator-id-1\" type=\"checkbox\" checked><label for=\"sk-estimator-id-1\" class=\"sk-toggleable__label fitted sk-toggleable__label-arrow\"><div><div>RandomForestClassifier</div></div><div><a class=\"sk-estimator-doc-link fitted\" rel=\"noreferrer\" target=\"_blank\" href=\"https://scikit-learn.org/1.6/modules/generated/sklearn.ensemble.RandomForestClassifier.html\">?<span>Documentation for RandomForestClassifier</span></a><span class=\"sk-estimator-doc-link fitted\">i<span>Fitted</span></span></div></label><div class=\"sk-toggleable__content fitted\"><pre>RandomForestClassifier(random_state=1)</pre></div> </div></div></div></div>"
      ],
      "text/plain": [
       "RandomForestClassifier(random_state=1)"
      ]
     },
     "execution_count": 15,
     "metadata": {},
     "output_type": "execute_result"
    }
   ],
   "source": [
    "#instatiate model\n",
    "model= RandomForestClassifier(random_state=1)\n",
    "\n",
    "#predictors/ feature matrix\n",
    "X= [\"Close\", \"Volume\", \"High\", \"Low\", \"Open\"]\n",
    "#target vector\n",
    "y= \"Target\"\n",
    "\n",
    "#train and test sets\n",
    "train= df.iloc[:-100]\n",
    "test= df.iloc[-100:]\n",
    "\n",
    "#train the model\n",
    "model.fit(train[X], train[y])"
   ]
  },
  {
   "cell_type": "markdown",
   "id": "0ef46778-0891-433a-8ab2-1f85d92abfd8",
   "metadata": {
    "id": "0ef46778-0891-433a-8ab2-1f85d92abfd8"
   },
   "source": [
    "## Evaluating the model"
   ]
  },
  {
   "cell_type": "code",
   "execution_count": 16,
   "id": "149add9e",
   "metadata": {
    "id": "149add9e"
   },
   "outputs": [],
   "source": [
    "preds= model.predict(test[X]) #  numpy array output of predictions."
   ]
  },
  {
   "cell_type": "code",
   "execution_count": 17,
   "id": "0d0e6924-d445-47db-bc71-1ceae7f3c930",
   "metadata": {
    "id": "0d0e6924-d445-47db-bc71-1ceae7f3c930"
   },
   "outputs": [],
   "source": [
    "preds= pd.DataFrame(preds, index= test.index) # array to dataframe"
   ]
  },
  {
   "cell_type": "code",
   "execution_count": 18,
   "id": "a05a71ee-a213-4721-8917-7d9794d23b70",
   "metadata": {},
   "outputs": [],
   "source": [
    "preds.columns= [\"Next Day Prediction\"] #name the column"
   ]
  },
  {
   "cell_type": "code",
   "execution_count": 19,
   "id": "6a5cdefa-3efb-42dd-aff9-f6a9331fbb45",
   "metadata": {
    "colab": {
     "base_uri": "https://localhost:8080/"
    },
    "id": "6a5cdefa-3efb-42dd-aff9-f6a9331fbb45",
    "outputId": "6a24902b-8884-4928-f11f-2aeeee29015a"
   },
   "outputs": [
    {
     "data": {
      "text/plain": [
       "0.41935483870967744"
      ]
     },
     "execution_count": 19,
     "metadata": {},
     "output_type": "execute_result"
    }
   ],
   "source": [
    "precision_score(test[y], preds)"
   ]
  },
  {
   "cell_type": "markdown",
   "id": "b440ce72",
   "metadata": {
    "id": "b440ce72"
   },
   "source": [
    "The precision score shows how accurately the model predicted that the price would go up."
   ]
  },
  {
   "cell_type": "markdown",
   "id": "6260ec6e",
   "metadata": {
    "id": "6260ec6e"
   },
   "source": [
    "## Results"
   ]
  },
  {
   "cell_type": "code",
   "execution_count": 20,
   "id": "b8a670cd",
   "metadata": {
    "id": "b8a670cd"
   },
   "outputs": [],
   "source": [
    "pred_res= pd.concat([test[y], preds], axis=1)"
   ]
  },
  {
   "cell_type": "code",
   "execution_count": 21,
   "id": "aad59e28",
   "metadata": {
    "colab": {
     "base_uri": "https://localhost:8080/",
     "height": 433
    },
    "id": "aad59e28",
    "outputId": "e906a644-54c7-4dbe-da29-4014fcd551d3"
   },
   "outputs": [
    {
     "data": {
      "image/png": "[encoded data removed]",
      "text/plain": [
       "<Figure size 640x480 with 1 Axes>"
      ]
     },
     "metadata": {},
     "output_type": "display_data"
    }
   ],
   "source": [
    "pred_res.plot(ylabel=\"prediction\")\n",
    "plt.legend([\"target\", \"prediction\"]);"
   ]
  },
  {
   "cell_type": "markdown",
   "id": "a557d6cb-a8b0-46ae-9964-6c6ac23cec71",
   "metadata": {},
   "source": [
    "Visual summary of model perfomance"
   ]
  },
  {
   "cell_type": "code",
   "execution_count": 22,
   "id": "acb150f7-3ade-4215-be26-18ade4a2ec7c",
   "metadata": {
    "colab": {
     "base_uri": "https://localhost:8080/",
     "height": 272
    },
    "id": "acb150f7-3ade-4215-be26-18ade4a2ec7c",
    "outputId": "147a9a44-6767-4dc6-cb8a-78c3e3bd71f0"
   },
   "outputs": [
    {
     "data": {
      "text/html": [
       "<div>\n",
       "<style scoped>\n",
       "    .dataframe tbody tr th:only-of-type {\n",
       "        vertical-align: middle;\n",
       "    }\n",
       "\n",
       "    .dataframe tbody tr th {\n",
       "        vertical-align: top;\n",
       "    }\n",
       "\n",
       "    .dataframe thead th {\n",
       "        text-align: right;\n",
       "    }\n",
       "</style>\n",
       "<table border=\"1\" class=\"dataframe\">\n",
       "  <thead>\n",
       "    <tr style=\"text-align: right;\">\n",
       "      <th></th>\n",
       "      <th>Next Day Prediction</th>\n",
       "    </tr>\n",
       "    <tr>\n",
       "      <th>Date</th>\n",
       "      <th></th>\n",
       "    </tr>\n",
       "  </thead>\n",
       "  <tbody>\n",
       "    <tr>\n",
       "      <th>2025-06-16 06:00:00+02:00</th>\n",
       "      <td>0</td>\n",
       "    </tr>\n",
       "    <tr>\n",
       "      <th>2025-06-17 06:00:00+02:00</th>\n",
       "      <td>0</td>\n",
       "    </tr>\n",
       "    <tr>\n",
       "      <th>2025-06-18 06:00:00+02:00</th>\n",
       "      <td>0</td>\n",
       "    </tr>\n",
       "    <tr>\n",
       "      <th>2025-06-20 06:00:00+02:00</th>\n",
       "      <td>0</td>\n",
       "    </tr>\n",
       "    <tr>\n",
       "      <th>2025-06-23 06:00:00+02:00</th>\n",
       "      <td>1</td>\n",
       "    </tr>\n",
       "  </tbody>\n",
       "</table>\n",
       "</div>"
      ],
      "text/plain": [
       "                           Next Day Prediction\n",
       "Date                                          \n",
       "2025-06-16 06:00:00+02:00                    0\n",
       "2025-06-17 06:00:00+02:00                    0\n",
       "2025-06-18 06:00:00+02:00                    0\n",
       "2025-06-20 06:00:00+02:00                    0\n",
       "2025-06-23 06:00:00+02:00                    1"
      ]
     },
     "execution_count": 22,
     "metadata": {},
     "output_type": "execute_result"
    }
   ],
   "source": [
    "preds.tail()"
   ]
  },
  {
   "cell_type": "markdown",
   "id": "0c281531",
   "metadata": {
    "id": "0c281531"
   },
   "source": [
    "The Prediction is of the next trading day.\n",
    "\n",
    "1 means the price is predicted to go up.\n",
    "0 means the price is predicted to go down."
   ]
  }
 ],
 "metadata": {
  "colab": {
   "provenance": []
  },
  "kernelspec": {
   "display_name": "Python 3",
   "language": "python",
   "name": "python3"
  },
  "language_info": {
   "codemirror_mode": {
    "name": "ipython",
    "version": 3
   },
   "file_extension": ".py",
   "mimetype": "text/x-python",
   "name": "python",
   "nbconvert_exporter": "python",
   "pygments_lexer": "ipython3",
   "version": "3.13.2"
  }
 },
 "nbformat": 4,
 "nbformat_minor": 5
}
